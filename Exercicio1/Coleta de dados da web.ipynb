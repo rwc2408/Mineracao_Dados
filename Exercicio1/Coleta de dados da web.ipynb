{
 "cells": [
  {
   "cell_type": "markdown",
   "metadata": {},
   "source": [
    "## Coleta de dados da Web\n",
    "\n",
    "Demonstração de alguns recursos importantes para essa tarefa"
   ]
  },
  {
   "cell_type": "code",
   "execution_count": 5,
   "metadata": {},
   "outputs": [
    {
     "name": "stdout",
     "output_type": "stream",
     "text": [
      "Requirement already satisfied: simplejson in /home/thiago/anaconda3/lib/python3.8/site-packages (3.17.5)\n",
      "\u001b[33mDEPRECATION: pyodbc 4.0.0-unsupported has a non-standard version number. pip 23.3 will enforce this behaviour change. A possible replacement is to upgrade to a newer version of pyodbc or contact the author to suggest that they release a version with a conforming version number. Discussion can be found at https://github.com/pypa/pip/issues/12063\u001b[0m\u001b[33m\n",
      "\u001b[0mRequirement already satisfied: python-youtube in /home/thiago/anaconda3/lib/python3.8/site-packages (0.9.2)\n",
      "Requirement already satisfied: dataclasses-json<0.6.0,>=0.5.3 in /home/thiago/anaconda3/lib/python3.8/site-packages (from python-youtube) (0.5.14)\n",
      "Requirement already satisfied: isodate<0.7.0,>=0.6.0 in /home/thiago/anaconda3/lib/python3.8/site-packages (from python-youtube) (0.6.1)\n",
      "Requirement already satisfied: requests<3.0.0,>=2.24.0 in /home/thiago/.local/lib/python3.8/site-packages (from python-youtube) (2.27.1)\n",
      "Requirement already satisfied: requests-oauthlib<2.0.0,>=1.3.0 in /home/thiago/.local/lib/python3.8/site-packages (from python-youtube) (1.3.0)\n",
      "Requirement already satisfied: marshmallow<4.0.0,>=3.18.0 in /home/thiago/anaconda3/lib/python3.8/site-packages (from dataclasses-json<0.6.0,>=0.5.3->python-youtube) (3.20.1)\n",
      "Requirement already satisfied: typing-inspect<1,>=0.4.0 in /home/thiago/anaconda3/lib/python3.8/site-packages (from dataclasses-json<0.6.0,>=0.5.3->python-youtube) (0.9.0)\n",
      "Requirement already satisfied: six in /home/thiago/anaconda3/lib/python3.8/site-packages (from isodate<0.7.0,>=0.6.0->python-youtube) (1.15.0)\n",
      "Requirement already satisfied: urllib3<1.27,>=1.21.1 in /home/thiago/anaconda3/lib/python3.8/site-packages (from requests<3.0.0,>=2.24.0->python-youtube) (1.25.9)\n",
      "Requirement already satisfied: certifi>=2017.4.17 in /home/thiago/anaconda3/lib/python3.8/site-packages (from requests<3.0.0,>=2.24.0->python-youtube) (2020.6.20)\n",
      "Requirement already satisfied: charset-normalizer~=2.0.0 in /home/thiago/.local/lib/python3.8/site-packages (from requests<3.0.0,>=2.24.0->python-youtube) (2.0.12)\n",
      "Requirement already satisfied: idna<4,>=2.5 in /home/thiago/anaconda3/lib/python3.8/site-packages (from requests<3.0.0,>=2.24.0->python-youtube) (2.10)\n",
      "Requirement already satisfied: oauthlib>=3.0.0 in /home/thiago/anaconda3/lib/python3.8/site-packages (from requests-oauthlib<2.0.0,>=1.3.0->python-youtube) (3.1.1)\n",
      "Requirement already satisfied: packaging>=17.0 in /home/thiago/.local/lib/python3.8/site-packages (from marshmallow<4.0.0,>=3.18.0->dataclasses-json<0.6.0,>=0.5.3->python-youtube) (21.3)\n",
      "Requirement already satisfied: mypy-extensions>=0.3.0 in /home/thiago/anaconda3/lib/python3.8/site-packages (from typing-inspect<1,>=0.4.0->dataclasses-json<0.6.0,>=0.5.3->python-youtube) (1.0.0)\n",
      "Requirement already satisfied: typing-extensions>=3.7.4 in /home/thiago/anaconda3/lib/python3.8/site-packages (from typing-inspect<1,>=0.4.0->dataclasses-json<0.6.0,>=0.5.3->python-youtube) (3.10.0.2)\n",
      "Requirement already satisfied: pyparsing!=3.0.5,>=2.0.2 in /home/thiago/.local/lib/python3.8/site-packages (from packaging>=17.0->marshmallow<4.0.0,>=3.18.0->dataclasses-json<0.6.0,>=0.5.3->python-youtube) (2.4.7)\n",
      "\u001b[33mDEPRECATION: pyodbc 4.0.0-unsupported has a non-standard version number. pip 23.3 will enforce this behaviour change. A possible replacement is to upgrade to a newer version of pyodbc or contact the author to suggest that they release a version with a conforming version number. Discussion can be found at https://github.com/pypa/pip/issues/12063\u001b[0m\u001b[33m\n",
      "\u001b[0m"
     ]
    }
   ],
   "source": [
    "#Instalação das apis - caso não tenha instalado\n",
    "!pip install simplejson\n",
    "!pip install --upgrade python-youtube"
   ]
  },
  {
   "cell_type": "markdown",
   "metadata": {},
   "source": [
    "## Usando APIs - YouTube"
   ]
  },
  {
   "cell_type": "markdown",
   "metadata": {},
   "source": [
    "#### Informações do canal"
   ]
  },
  {
   "cell_type": "code",
   "execution_count": 7,
   "metadata": {},
   "outputs": [],
   "source": [
    "from pyyoutube import Api\n",
    "\n",
    "api = Api(api_key=\"SUA CREDENCIAL AQUI\")\n"
   ]
  },
  {
   "cell_type": "code",
   "execution_count": 23,
   "metadata": {},
   "outputs": [],
   "source": [
    "channel_by_username = api.get_channel_info(for_username=[\"canaldaUTFPR\",\"CNPqOficial\"])\n"
   ]
  },
  {
   "cell_type": "code",
   "execution_count": 25,
   "metadata": {},
   "outputs": [
    {
     "data": {
      "text/plain": [
       "Channel(kind='youtube#channel', id='UCXs3LHxIwbfr5_HrySsGXTA')"
      ]
     },
     "execution_count": 25,
     "metadata": {},
     "output_type": "execute_result"
    }
   ],
   "source": [
    "channel_by_username.items[0]"
   ]
  },
  {
   "cell_type": "code",
   "execution_count": 26,
   "metadata": {},
   "outputs": [
    {
     "data": {
      "text/plain": [
       "{'kind': 'youtube#channel',\n",
       " 'etag': 'UxZcdaWYIcYdt0XNhY4JCLz-ROs',\n",
       " 'id': 'UCXs3LHxIwbfr5_HrySsGXTA',\n",
       " 'snippet': {'title': 'CNPqOficial',\n",
       "  'description': 'Vídeos sobre ciência, tecnologia e inovação, com destaque para os programas, projetos, ações e eventos do Conselho Nacional de Desenvolvimento Científico e Tecnológico (CNPq).',\n",
       "  'customUrl': '@cnpqoficial',\n",
       "  'publishedAt': '2012-01-11T12:44:41Z',\n",
       "  'thumbnails': {'default': {'url': 'https://yt3.ggpht.com/2SgBBoHFAzEdvLtvr7gHGkftDVlCfp4aymSVT8BucSwQcZUnhopFSVMjBnkUyWAAqD7cSghQmg=s88-c-k-c0x00ffffff-no-rj',\n",
       "    'width': 88,\n",
       "    'height': 88},\n",
       "   'medium': {'url': 'https://yt3.ggpht.com/2SgBBoHFAzEdvLtvr7gHGkftDVlCfp4aymSVT8BucSwQcZUnhopFSVMjBnkUyWAAqD7cSghQmg=s240-c-k-c0x00ffffff-no-rj',\n",
       "    'width': 240,\n",
       "    'height': 240},\n",
       "   'high': {'url': 'https://yt3.ggpht.com/2SgBBoHFAzEdvLtvr7gHGkftDVlCfp4aymSVT8BucSwQcZUnhopFSVMjBnkUyWAAqD7cSghQmg=s800-c-k-c0x00ffffff-no-rj',\n",
       "    'width': 800,\n",
       "    'height': 800},\n",
       "   'standard': None,\n",
       "   'maxres': None},\n",
       "  'defaultLanguage': None,\n",
       "  'localized': {'title': 'CNPqOficial',\n",
       "   'description': 'Vídeos sobre ciência, tecnologia e inovação, com destaque para os programas, projetos, ações e eventos do Conselho Nacional de Desenvolvimento Científico e Tecnológico (CNPq).'},\n",
       "  'country': 'BR'},\n",
       " 'contentDetails': {'relatedPlaylists': {'likes': '',\n",
       "   'uploads': 'UUXs3LHxIwbfr5_HrySsGXTA'}},\n",
       " 'statistics': {'viewCount': 205605,\n",
       "  'subscriberCount': 12500,\n",
       "  'hiddenSubscriberCount': False,\n",
       "  'videoCount': 391},\n",
       " 'topicDetails': {'topicIds': ['/m/01k8wb', '/m/098wr'],\n",
       "  'topicCategories': ['https://en.wikipedia.org/wiki/Knowledge',\n",
       "   'https://en.wikipedia.org/wiki/Society']},\n",
       " 'status': {'privacyStatus': 'public',\n",
       "  'isLinked': True,\n",
       "  'longUploadsStatus': 'longUploadsUnspecified',\n",
       "  'madeForKids': None,\n",
       "  'selfDeclaredMadeForKids': None},\n",
       " 'brandingSettings': {'channel': {'title': 'CNPqOficial',\n",
       "   'description': 'Vídeos sobre ciência, tecnologia e inovação, com destaque para os programas, projetos, ações e eventos do Conselho Nacional de Desenvolvimento Científico e Tecnológico (CNPq).',\n",
       "   'keywords': 'cnpq ciência tecnologia inovação pesquisa',\n",
       "   'trackingAnalyticsAccountId': None,\n",
       "   'moderateComments': None,\n",
       "   'unsubscribedTrailer': 'tnORKx1SU5Y',\n",
       "   'defaultLanguage': None,\n",
       "   'country': 'BR'},\n",
       "  'image': {'bannerExternalUrl': 'https://yt3.googleusercontent.com/-zgdB1I7FlUGU5rbq93pEKROoTYzCfkbHV1JKUE-PEdQzAkKlqRuiCGuJ6UHTZgJz9lPFyDW1g'}},\n",
       " 'auditDetails': None,\n",
       " 'contentOwnerDetails': None,\n",
       " 'localizations': None}"
      ]
     },
     "execution_count": 26,
     "metadata": {},
     "output_type": "execute_result"
    }
   ],
   "source": [
    "channel_by_username.items[0].to_dict()"
   ]
  },
  {
   "cell_type": "code",
   "execution_count": 27,
   "metadata": {},
   "outputs": [
    {
     "data": {
      "text/plain": [
       "{'kind': 'youtube#channel',\n",
       " 'etag': 'UxZcdaWYIcYdt0XNhY4JCLz-ROs',\n",
       " 'id': 'UCXs3LHxIwbfr5_HrySsGXTA',\n",
       " 'snippet': {'title': 'CNPqOficial',\n",
       "  'description': 'Vídeos sobre ciência, tecnologia e inovação, com destaque para os programas, projetos, ações e eventos do Conselho Nacional de Desenvolvimento Científico e Tecnológico (CNPq).',\n",
       "  'customUrl': '@cnpqoficial',\n",
       "  'publishedAt': '2012-01-11T12:44:41Z',\n",
       "  'thumbnails': {'default': {'url': 'https://yt3.ggpht.com/2SgBBoHFAzEdvLtvr7gHGkftDVlCfp4aymSVT8BucSwQcZUnhopFSVMjBnkUyWAAqD7cSghQmg=s88-c-k-c0x00ffffff-no-rj',\n",
       "    'width': 88,\n",
       "    'height': 88},\n",
       "   'medium': {'url': 'https://yt3.ggpht.com/2SgBBoHFAzEdvLtvr7gHGkftDVlCfp4aymSVT8BucSwQcZUnhopFSVMjBnkUyWAAqD7cSghQmg=s240-c-k-c0x00ffffff-no-rj',\n",
       "    'width': 240,\n",
       "    'height': 240},\n",
       "   'high': {'url': 'https://yt3.ggpht.com/2SgBBoHFAzEdvLtvr7gHGkftDVlCfp4aymSVT8BucSwQcZUnhopFSVMjBnkUyWAAqD7cSghQmg=s800-c-k-c0x00ffffff-no-rj',\n",
       "    'width': 800,\n",
       "    'height': 800},\n",
       "   'standard': None,\n",
       "   'maxres': None},\n",
       "  'defaultLanguage': None,\n",
       "  'localized': {'title': 'CNPqOficial',\n",
       "   'description': 'Vídeos sobre ciência, tecnologia e inovação, com destaque para os programas, projetos, ações e eventos do Conselho Nacional de Desenvolvimento Científico e Tecnológico (CNPq).'},\n",
       "  'country': 'BR'},\n",
       " 'contentDetails': {'relatedPlaylists': {'likes': '',\n",
       "   'uploads': 'UUXs3LHxIwbfr5_HrySsGXTA'}},\n",
       " 'statistics': {'viewCount': 205605,\n",
       "  'subscriberCount': 12500,\n",
       "  'hiddenSubscriberCount': False,\n",
       "  'videoCount': 391},\n",
       " 'topicDetails': {'topicIds': ['/m/01k8wb', '/m/098wr'],\n",
       "  'topicCategories': ['https://en.wikipedia.org/wiki/Knowledge',\n",
       "   'https://en.wikipedia.org/wiki/Society']},\n",
       " 'status': {'privacyStatus': 'public',\n",
       "  'isLinked': True,\n",
       "  'longUploadsStatus': 'longUploadsUnspecified',\n",
       "  'madeForKids': None,\n",
       "  'selfDeclaredMadeForKids': None},\n",
       " 'brandingSettings': {'channel': {'title': 'CNPqOficial',\n",
       "   'description': 'Vídeos sobre ciência, tecnologia e inovação, com destaque para os programas, projetos, ações e eventos do Conselho Nacional de Desenvolvimento Científico e Tecnológico (CNPq).',\n",
       "   'keywords': 'cnpq ciência tecnologia inovação pesquisa',\n",
       "   'trackingAnalyticsAccountId': None,\n",
       "   'moderateComments': None,\n",
       "   'unsubscribedTrailer': 'tnORKx1SU5Y',\n",
       "   'defaultLanguage': None,\n",
       "   'country': 'BR'},\n",
       "  'image': {'bannerExternalUrl': 'https://yt3.googleusercontent.com/-zgdB1I7FlUGU5rbq93pEKROoTYzCfkbHV1JKUE-PEdQzAkKlqRuiCGuJ6UHTZgJz9lPFyDW1g'}},\n",
       " 'auditDetails': None,\n",
       " 'contentOwnerDetails': None,\n",
       " 'localizations': None}"
      ]
     },
     "execution_count": 27,
     "metadata": {},
     "output_type": "execute_result"
    }
   ],
   "source": [
    "channel_by_username.items[0].to_dict()"
   ]
  },
  {
   "cell_type": "markdown",
   "metadata": {},
   "source": [
    "#### Pegar comentários de um vídeo"
   ]
  },
  {
   "cell_type": "code",
   "execution_count": 33,
   "metadata": {},
   "outputs": [],
   "source": [
    "#vídeo: https://www.youtube.com/watch?v=zj1p7i8kMJI\n",
    "ct_by_video = api.get_comment_threads(video_id=\"zj1p7i8kMJI\", count=None)"
   ]
  },
  {
   "cell_type": "code",
   "execution_count": 34,
   "metadata": {},
   "outputs": [
    {
     "data": {
      "text/plain": [
       "[CommentThread(kind='youtube#commentThread', id='UgxS5rZDPHaTN1VSgJV4AaABAg'),\n",
       " CommentThread(kind='youtube#commentThread', id='UgziuSLorz681pSxnQZ4AaABAg')]"
      ]
     },
     "execution_count": 34,
     "metadata": {},
     "output_type": "execute_result"
    }
   ],
   "source": [
    "ct_by_video.items"
   ]
  },
  {
   "cell_type": "code",
   "execution_count": 36,
   "metadata": {},
   "outputs": [
    {
     "data": {
      "text/plain": [
       "{'kind': 'youtube#commentThread',\n",
       " 'etag': 'azmNn4mDMn0Nl1swveqyaZucQcY',\n",
       " 'id': 'UgxS5rZDPHaTN1VSgJV4AaABAg',\n",
       " 'snippet': {'channelId': 'UCXs3LHxIwbfr5_HrySsGXTA',\n",
       "  'videoId': 'zj1p7i8kMJI',\n",
       "  'topLevelComment': {'kind': 'youtube#comment',\n",
       "   'etag': 'WWIO7IFzVFywJEDIebPq9XSdbr8',\n",
       "   'id': 'UgxS5rZDPHaTN1VSgJV4AaABAg',\n",
       "   'snippet': {'authorDisplayName': 'Enio Pedrotti',\n",
       "    'authorProfileImageUrl': 'https://yt3.ggpht.com/ytc/APkrFKb6_3-3sCEwf4BkefJmVuqKjufYAqzhjE86LnN0=s48-c-k-c0x00ffffff-no-rj',\n",
       "    'authorChannelUrl': 'http://www.youtube.com/channel/UC0LahMFhSR-dPxfR2KkAerA',\n",
       "    'authorChannelId': {'value': 'UC0LahMFhSR-dPxfR2KkAerA'},\n",
       "    'channelId': 'UCXs3LHxIwbfr5_HrySsGXTA',\n",
       "    'videoId': 'zj1p7i8kMJI',\n",
       "    'textDisplay': 'Grande Participação dee nossa colega Catarina.',\n",
       "    'textOriginal': 'Grande Participação dee nossa colega Catarina.',\n",
       "    'parentId': None,\n",
       "    'canRate': True,\n",
       "    'viewerRating': 'none',\n",
       "    'likeCount': 1,\n",
       "    'moderationStatus': None,\n",
       "    'publishedAt': '2023-04-24T11:22:57Z',\n",
       "    'updatedAt': '2023-04-24T11:22:57Z'}},\n",
       "  'canReply': True,\n",
       "  'totalReplyCount': 0,\n",
       "  'isPublic': True},\n",
       " 'replies': None}"
      ]
     },
     "execution_count": 36,
     "metadata": {},
     "output_type": "execute_result"
    }
   ],
   "source": [
    "ct_by_video.items[0].to_dict()"
   ]
  },
  {
   "cell_type": "markdown",
   "metadata": {},
   "source": [
    "#### Pesquisa por palavras chave"
   ]
  },
  {
   "cell_type": "code",
   "execution_count": 45,
   "metadata": {},
   "outputs": [],
   "source": [
    "r = api.search_by_keywords(q=\"data mining\", search_type=[\"channel\",\"video\", \"playlist\"], count=5, limit=5)"
   ]
  },
  {
   "cell_type": "code",
   "execution_count": 46,
   "metadata": {},
   "outputs": [
    {
     "data": {
      "text/plain": [
       "[SearchResult(kind='youtube#searchResult'),\n",
       " SearchResult(kind='youtube#searchResult'),\n",
       " SearchResult(kind='youtube#searchResult'),\n",
       " SearchResult(kind='youtube#searchResult'),\n",
       " SearchResult(kind='youtube#searchResult')]"
      ]
     },
     "execution_count": 46,
     "metadata": {},
     "output_type": "execute_result"
    }
   ],
   "source": [
    "r.items"
   ]
  },
  {
   "cell_type": "code",
   "execution_count": 47,
   "metadata": {},
   "outputs": [
    {
     "data": {
      "text/plain": [
       "{'kind': 'youtube#searchResult',\n",
       " 'etag': 'AfIZFpxKvDUTrJHHrCqacv4Kt1Q',\n",
       " 'id': {'kind': 'youtube#video',\n",
       "  'videoId': 'RhvFjTGsCOM',\n",
       "  'channelId': None,\n",
       "  'playlistId': None},\n",
       " 'snippet': {'publishedAt': '2021-04-20T17:56:31Z',\n",
       "  'channelId': 'UCSP-Zyx0O16EdOMrt8EfP7g',\n",
       "  'title': 'Data mining',\n",
       "  'description': 'Como funciona o processo de mineração de dados também conhecido como Data mining. Descubra essa informação com o ...',\n",
       "  'thumbnails': {'default': {'url': 'https://i.ytimg.com/vi/RhvFjTGsCOM/default.jpg',\n",
       "    'width': 120,\n",
       "    'height': 90},\n",
       "   'medium': {'url': 'https://i.ytimg.com/vi/RhvFjTGsCOM/mqdefault.jpg',\n",
       "    'width': 320,\n",
       "    'height': 180},\n",
       "   'high': {'url': 'https://i.ytimg.com/vi/RhvFjTGsCOM/hqdefault.jpg',\n",
       "    'width': 480,\n",
       "    'height': 360},\n",
       "   'standard': None,\n",
       "   'maxres': None},\n",
       "  'channelTitle': 'Dicionário de Informática',\n",
       "  'liveBroadcastContent': 'none'}}"
      ]
     },
     "execution_count": 47,
     "metadata": {},
     "output_type": "execute_result"
    }
   ],
   "source": [
    "r.items[0].to_dict()"
   ]
  },
  {
   "cell_type": "markdown",
   "metadata": {},
   "source": [
    "#### Pesquisa geográfica"
   ]
  },
  {
   "cell_type": "code",
   "execution_count": 51,
   "metadata": {},
   "outputs": [],
   "source": [
    "r = api.search(location=\"-25.430385, -49.264806\",\n",
    "               location_radius=\"10mi\",\n",
    "               q=\"economia\",\n",
    "               parts=[\"snippet\"],\n",
    "               count=5,\n",
    "               published_after=\"2020-02-01T00:00:00Z\",\n",
    "               published_before=\"2020-03-01T00:00:00Z\",\n",
    "               safe_search=\"moderate\",\n",
    "               search_type=\"video\")"
   ]
  },
  {
   "cell_type": "code",
   "execution_count": 53,
   "metadata": {},
   "outputs": [
    {
     "data": {
      "text/plain": [
       "[SearchResult(kind='youtube#searchResult'),\n",
       " SearchResult(kind='youtube#searchResult'),\n",
       " SearchResult(kind='youtube#searchResult'),\n",
       " SearchResult(kind='youtube#searchResult'),\n",
       " SearchResult(kind='youtube#searchResult')]"
      ]
     },
     "execution_count": 53,
     "metadata": {},
     "output_type": "execute_result"
    }
   ],
   "source": [
    "r.items"
   ]
  },
  {
   "cell_type": "code",
   "execution_count": 58,
   "metadata": {},
   "outputs": [
    {
     "data": {
      "text/plain": [
       "{'kind': 'youtube#searchResult',\n",
       " 'etag': 'XUuUU7iaAjBScTBpI4Oialk-STM',\n",
       " 'id': {'kind': 'youtube#video',\n",
       "  'videoId': 'pfQbrJENOeg',\n",
       "  'channelId': None,\n",
       "  'playlistId': None},\n",
       " 'snippet': {'publishedAt': '2020-02-26T22:48:54Z',\n",
       "  'channelId': 'UCEZ4KAdrizIFfcG47majdjg',\n",
       "  'title': '3 MENTIRAS sobre ATERRAMENTO! Aterramento Economiza Energia? Protege Contra Raio?',\n",
       "  'description': 'Conheça Meu Curso de Eletricista ✓ https://hotm.art/ELETRICISTATOP Curso de NR 10 Básico com CERTIFICADO Válido ...',\n",
       "  'thumbnails': {'default': {'url': 'https://i.ytimg.com/vi/pfQbrJENOeg/default.jpg',\n",
       "    'width': 120,\n",
       "    'height': 90},\n",
       "   'medium': {'url': 'https://i.ytimg.com/vi/pfQbrJENOeg/mqdefault.jpg',\n",
       "    'width': 320,\n",
       "    'height': 180},\n",
       "   'high': {'url': 'https://i.ytimg.com/vi/pfQbrJENOeg/hqdefault.jpg',\n",
       "    'width': 480,\n",
       "    'height': 360},\n",
       "   'standard': None,\n",
       "   'maxres': None},\n",
       "  'channelTitle': 'Leonidas Borges Elétrica',\n",
       "  'liveBroadcastContent': 'none'}}"
      ]
     },
     "execution_count": 58,
     "metadata": {},
     "output_type": "execute_result"
    }
   ],
   "source": [
    "r.items[0].to_dict()"
   ]
  },
  {
   "cell_type": "markdown",
   "metadata": {},
   "source": [
    "### Processando jsons"
   ]
  },
  {
   "cell_type": "code",
   "execution_count": 4,
   "metadata": {},
   "outputs": [
    {
     "name": "stdout",
     "output_type": "stream",
     "text": [
      "616333141884674048\n",
      "Wed Jul 01 19:50:46 +0000 2015\n",
      "Wei Xu\n",
      "WNUT15\n"
     ]
    }
   ],
   "source": [
    "import simplejson as json\n",
    "\n",
    "# Arquivo com Tweets\n",
    "tweets_file = open('tweet.txt', \"r\")\n",
    "\n",
    "#le a linha do arquivo\n",
    "tweet_json = tweets_file.readline()\n",
    "\n",
    "#imprime a linha lida\n",
    "#print  tweet_json\n",
    "  \n",
    "#remove espacos em branco\n",
    "strippedJson = tweet_json.strip()\n",
    "  \n",
    "#converte uma string json em um objeto python\n",
    "tweet = json.loads(strippedJson)\n",
    "  \n",
    "print(tweet['id']) # ID do tweet\n",
    "print(tweet['created_at']) # data de postagem\n",
    "#print(tweet['text']) # texto do tweet\n",
    " \n",
    "#print(tweet['user']['id']) # id do usuario que postou\n",
    "print(tweet['user']['name']) # nome do usuario\n",
    "#print (tweet['user']['screen_name']) # nome da conta do usuario \n",
    "\n",
    "#print(tweet['entities'])\n",
    "#print(tweet['entities']['hashtags'])\n",
    "print(tweet['entities']['hashtags'][2]['text'])\n",
    "\n"
   ]
  },
  {
   "cell_type": "markdown",
   "metadata": {},
   "source": [
    "## Web crawlers "
   ]
  },
  {
   "cell_type": "markdown",
   "metadata": {},
   "source": [
    "#### Exemplo 1"
   ]
  },
  {
   "cell_type": "code",
   "execution_count": 59,
   "metadata": {},
   "outputs": [
    {
     "name": "stdout",
     "output_type": "stream",
     "text": [
      "<html>\n",
      " <body>\n",
      "  <p>\n",
      "   Bom dia, CSBC!\n",
      "  </p>\n",
      " </body>\n",
      "</html>\n"
     ]
    }
   ],
   "source": [
    "from bs4 import BeautifulSoup\n",
    "\n",
    "pagina = '<html><body><p>Bom dia, CSBC!</p></body></html>'\n",
    "soup = BeautifulSoup(pagina,'html.parser')\n",
    "print(soup.prettify())"
   ]
  },
  {
   "cell_type": "markdown",
   "metadata": {},
   "source": [
    "#### Exemplo 2"
   ]
  },
  {
   "cell_type": "code",
   "execution_count": 60,
   "metadata": {},
   "outputs": [
    {
     "name": "stdout",
     "output_type": "stream",
     "text": [
      "[<p>Bom dia, CSBC!</p>, <p>teste</p>]\n",
      "<p>Bom dia, CSBC!</p>\n"
     ]
    }
   ],
   "source": [
    "from bs4 import BeautifulSoup\n",
    "\n",
    "pagina = '<html><body><p>Bom dia, CSBC!</p><p>teste</p></body></html>'\n",
    "soup = BeautifulSoup(pagina,'html.parser')\n",
    "\n",
    "allP = soup.find_all('p')\n",
    "print(allP)\n",
    "\n",
    "print(allP[0])"
   ]
  },
  {
   "cell_type": "markdown",
   "metadata": {},
   "source": [
    "#### Exemplo 3"
   ]
  },
  {
   "cell_type": "code",
   "execution_count": 61,
   "metadata": {},
   "outputs": [
    {
     "name": "stdout",
     "output_type": "stream",
     "text": [
      "[<tr><td>one</td><td>two</td></tr>]\n",
      "[<td>one</td>, <td>two</td>]\n",
      "<td>one</td>\n",
      "<td>two</td>\n",
      "one\n",
      "two\n"
     ]
    }
   ],
   "source": [
    "from bs4 import BeautifulSoup\n",
    "\n",
    "pagina = \"<table><tr><td>one</td><td>two</td></tr></table>\"\n",
    "soup = BeautifulSoup(pagina,'html.parser')\n",
    "\n",
    "allTR = soup.find_all('tr')\n",
    "print(allTR)\n",
    "\n",
    "allTD = soup.find_all('td')\n",
    "print(allTD)\n",
    "\n",
    "\n",
    "for t in soup.find_all('td'):\n",
    "    print(t)\n",
    "\n",
    "for t in soup.find_all('td'):\n",
    "    print(t.text)\n"
   ]
  },
  {
   "cell_type": "markdown",
   "metadata": {},
   "source": [
    "#### Exemplo - Wikipedia"
   ]
  },
  {
   "cell_type": "code",
   "execution_count": 62,
   "metadata": {},
   "outputs": [
    {
     "name": "stdout",
     "output_type": "stream",
     "text": [
      "<h1 class=\"firstHeading mw-first-heading\" id=\"firstHeading\"><span class=\"mw-page-title-main\">Universidade Tecnológica Federal do Paraná</span></h1>\n",
      "Universidade Tecnológica Federal do Paraná\n"
     ]
    }
   ],
   "source": [
    "import requests\n",
    "from bs4 import BeautifulSoup\n",
    "\n",
    "\n",
    "url=\"https://pt.wikipedia.org/wiki/Universidade_Tecnol%C3%B3gica_Federal_do_Paran%C3%A1\"\n",
    "\n",
    "##retorna o conteudo da pagina\n",
    "req = requests.get(url)\n",
    "\n",
    "##transforma o conteudo da pagina em um objeto BeautifulSoup\n",
    "soup = BeautifulSoup(req.content,'html.parser')\n",
    "\n",
    "nomeBruto = soup.find(\"h1\",{\"id\":\"firstHeading\"})\n",
    "\n",
    "print(nomeBruto)\n",
    "\n",
    "print(nomeBruto.text)\n"
   ]
  },
  {
   "cell_type": "markdown",
   "metadata": {},
   "source": [
    "### Selenium"
   ]
  },
  {
   "cell_type": "code",
   "execution_count": 63,
   "metadata": {},
   "outputs": [
    {
     "name": "stdout",
     "output_type": "stream",
     "text": [
      "AJAX\n",
      "AJAX is not a programming language.\n",
      "AJAX is a technique for accessing web servers from a web page.\n",
      "AJAX stands for Asynchronous JavaScript And XML.\n"
     ]
    }
   ],
   "source": [
    "from selenium import webdriver\n",
    "from selenium.webdriver.chrome.options import Options\n",
    "from selenium.webdriver.support.ui import WebDriverWait\n",
    "from selenium.webdriver.support import expected_conditions as ec\n",
    "from selenium.webdriver.common.by import By\n",
    "import time\n",
    "\n",
    "from bs4 import BeautifulSoup\n",
    "\n",
    "\n",
    "driver = webdriver.Chrome(executable_path='./chromedriver')\n",
    "\n",
    "driver.get(\"https://www.w3schools.com/xml/ajax_intro.asp\")  \n",
    "\n",
    "#Clica no botao da pagina para ver o conteudo     \n",
    "#o xpath do botao de interese eh: '//*[@id=\"demo\"]/button'\n",
    "\n",
    "botaolist = driver.find_elements_by_xpath('//*[@id=\"demo\"]/button')\n",
    "\n",
    "botaolist[0].click()\n",
    "\n",
    "wait = WebDriverWait(driver, 10)\n",
    "wait.until(ec.visibility_of_element_located((By.XPATH, '//*[@id=\"demo\"]/h1')))\n",
    "\n",
    "# Pega o fonte da página\n",
    "page_source = driver.page_source    \n",
    "\n",
    "#fecha o driver, mas quando estivermos coletando varias paginas podemos manter ativo pra nao precisar abrir o browser novamente\n",
    "#driver.close()\n",
    "    \n",
    "soup = BeautifulSoup(page_source, \"lxml\") #pega o conteúdo com beautifulsoup para parsing\n",
    "    \n",
    "content= soup.find(\"div\",{\"id\":\"demo\"}) \n",
    "print(content.text)"
   ]
  }
 ],
 "metadata": {
  "kernelspec": {
   "display_name": "dmclass",
   "language": "python",
   "name": "dmclass"
  },
  "language_info": {
   "codemirror_mode": {
    "name": "ipython",
    "version": 3
   },
   "file_extension": ".py",
   "mimetype": "text/x-python",
   "name": "python",
   "nbconvert_exporter": "python",
   "pygments_lexer": "ipython3",
   "version": "3.8.3"
  }
 },
 "nbformat": 4,
 "nbformat_minor": 4
}
